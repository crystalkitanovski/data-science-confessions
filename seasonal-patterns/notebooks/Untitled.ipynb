{
 "cells": [
  {
   "cell_type": "code",
   "execution_count": null,
   "id": "ec2b2ec1-8be9-44ea-8254-7e2b2dc5cd78",
   "metadata": {},
   "outputs": [],
   "source": []
  }
 ],
 "metadata": {
  "kernelspec": {
   "display_name": "",
   "name": ""
  },
  "language_info": {
   "name": ""
  }
 },
 "nbformat": 4,
 "nbformat_minor": 5
}
